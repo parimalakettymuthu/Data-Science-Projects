{
 "cells": [
  {
   "cell_type": "code",
   "execution_count": 1,
   "id": "cfe1e5fe",
   "metadata": {},
   "outputs": [],
   "source": [
    "#Imported the default modules\n",
    "import matplotlib.pyplot as py\n",
    "%matplotlib inline\n",
    "import numpy as np\n",
    "import seaborn as sns\n",
    "import pandas as pd \n",
    "from sklearn.model_selection import train_test_split\n",
    "from sklearn.ensemble import ExtraTreesRegressor\n",
    "from sklearn.linear_model import LinearRegression\n",
    "from sklearn.linear_model import Ridge\n",
    "from sklearn.model_selection import GridSearchCV\n",
    "from sklearn.linear_model import Lasso\n",
    "from sklearn.tree import DecisionTreeRegressor"
   ]
  },
  {
   "cell_type": "code",
   "execution_count": null,
   "id": "bad878ef",
   "metadata": {},
   "outputs": [],
   "source": [
    "onlineRetail = pd.read_excel(\"Online Retail.xlsx\")\n",
    "onlineRetail.head(10) #displays only the 1st 10 records"
   ]
  },
  {
   "cell_type": "code",
   "execution_count": null,
   "id": "12f92f7c",
   "metadata": {},
   "outputs": [],
   "source": [
    "onlineRetail.shape #displays the number of observations & columns"
   ]
  },
  {
   "cell_type": "code",
   "execution_count": null,
   "id": "d7005121",
   "metadata": {},
   "outputs": [],
   "source": [
    "onlineRetail.columns #displays the column names"
   ]
  },
  {
   "cell_type": "code",
   "execution_count": null,
   "id": "9f24a6fa",
   "metadata": {},
   "outputs": [],
   "source": [
    "onlineRetailNoDup = onlineRetail.drop_duplicates() #duplicates removed\n",
    "onlineRetailNoDup"
   ]
  },
  {
   "cell_type": "code",
   "execution_count": null,
   "id": "a755242b",
   "metadata": {},
   "outputs": [],
   "source": [
    "onlineRetailNoDup.shape #number of records got dropped from 541909 to 536641"
   ]
  },
  {
   "cell_type": "code",
   "execution_count": null,
   "id": "c9371732",
   "metadata": {},
   "outputs": [],
   "source": [
    "onlineRetailNAs= onlineRetailNoDup.dropna() #axis = 'columns'"
   ]
  },
  {
   "cell_type": "code",
   "execution_count": null,
   "id": "a5c1d358",
   "metadata": {},
   "outputs": [],
   "source": [
    "onlineRetailNAs.shape #number of records dropped from 536641 to 401604 "
   ]
  },
  {
   "cell_type": "code",
   "execution_count": null,
   "id": "1fbfdb8b",
   "metadata": {},
   "outputs": [],
   "source": [
    "onlineRetailNAs.describe() "
   ]
  },
  {
   "cell_type": "code",
   "execution_count": null,
   "id": "d80fadf9",
   "metadata": {},
   "outputs": [],
   "source": [
    "onlineRetailNAs.corr() "
   ]
  },
  {
   "cell_type": "code",
   "execution_count": null,
   "id": "470b62cc",
   "metadata": {},
   "outputs": [],
   "source": [
    "onlineRetailNAs.dtypes"
   ]
  },
  {
   "cell_type": "code",
   "execution_count": null,
   "id": "50e1800e",
   "metadata": {},
   "outputs": [],
   "source": [
    "relation =onlineRetailNAs.corr() #Generated correlated matrix\n",
    "relation_index=relation.index"
   ]
  },
  {
   "cell_type": "code",
   "execution_count": null,
   "id": "61393021",
   "metadata": {},
   "outputs": [],
   "source": [
    "sns.heatmap(onlineRetailNAs[relation_index].corr(),annot=True)"
   ]
  },
  {
   "cell_type": "code",
   "execution_count": null,
   "id": "ab592eb9",
   "metadata": {},
   "outputs": [],
   "source": [
    "#Splitting the input & output variables\n",
    "X_vars = [\"UnitPrice\",\"CustomerID\"] #Chosed \"UnitPrice\" &\"CustomerID\" columns as input\n",
    "y_vars = [\"Quantity\"] #Chosed \"Quantity\" column as output\n",
    "X=onlineRetailNAs[X_vars]\n",
    "y=onlineRetailNAs[y_vars]\n",
    "print(X.shape)"
   ]
  },
  {
   "cell_type": "code",
   "execution_count": null,
   "id": "699c5543",
   "metadata": {},
   "outputs": [],
   "source": [
    "#Define the test & train data - split the train & test data in the ratio 70%:30%\n",
    "X_train, X_test, y_train, y_test = train_test_split(X,y,test_size=0.3,random_state=42)\n"
   ]
  },
  {
   "cell_type": "code",
   "execution_count": null,
   "id": "a19eaa0e",
   "metadata": {},
   "outputs": [],
   "source": [
    " #Checked the feature importance using ETR\n",
    "reg= ExtraTreesRegressor()\n",
    "reg.fit(X_train,y_train[\"Quantity\"])\n",
    "reg.feature_importances_"
   ]
  },
  {
   "cell_type": "code",
   "execution_count": null,
   "id": "32c6b748",
   "metadata": {},
   "outputs": [],
   "source": [
    "feat_importances = pd.Series(reg.feature_importances_, index=X_train.columns)\n",
    "feat_importances.nlargest(5).plot(kind='barh')\n",
    "py.show()"
   ]
  },
  {
   "cell_type": "code",
   "execution_count": null,
   "id": "df1dee64",
   "metadata": {},
   "outputs": [],
   "source": [
    "#Intially experimented with Linear Regression\n",
    "lr_model = LinearRegression()\n",
    "lr_model.fit(X_train,y_train)"
   ]
  },
  {
   "cell_type": "code",
   "execution_count": null,
   "id": "6643d382",
   "metadata": {},
   "outputs": [],
   "source": [
    "lr_model.coef_, lr_model.intercept_"
   ]
  },
  {
   "cell_type": "code",
   "execution_count": null,
   "id": "8b60b64f",
   "metadata": {},
   "outputs": [],
   "source": [
    "#Prediction \n",
    "y_pred_test = lr_model.predict(X_test)\n",
    "y_pred_test.shape"
   ]
  },
  {
   "cell_type": "code",
   "execution_count": null,
   "id": "353fe533",
   "metadata": {},
   "outputs": [],
   "source": [
    "#Performance evaluation: \n",
    "error = y_test - y_pred_test\n",
    "error\n",
    "#Mean Square Error\n",
    "MSE = np.mean(error**2)\n",
    "\n",
    "#Root Mean Square Error\n",
    "RMSE = MSE**0.5\n",
    "print(\"Mean Square Error: \",MSE, \"\\n\\nRoot Mean Square Error: \",RMSE)"
   ]
  },
  {
   "cell_type": "code",
   "execution_count": null,
   "id": "24953f69",
   "metadata": {},
   "outputs": [],
   "source": [
    "lr_model.score(X_test,y_test)"
   ]
  },
  {
   "cell_type": "code",
   "execution_count": null,
   "id": "9cb7cf50",
   "metadata": {},
   "outputs": [],
   "source": [
    "#R^2 value is calculated using the .score method. Higher the value indicates the better \n",
    "#model performance but this model having very low R^2 value. So will fine tune the dataset\n",
    "#using hyperparameter & Grid Search "
   ]
  },
  {
   "cell_type": "code",
   "execution_count": null,
   "id": "6d12ad78",
   "metadata": {},
   "outputs": [],
   "source": [
    "# Further explored Lasso & Ridge model using GridSearchCV\n",
    "ridge_grid = {'alpha':[0.001, 0.01, 0.1,1, 10,100]} \n",
    "\n",
    "ridge=Ridge()\n",
    "ridge_cv_reg=GridSearchCV(ridge,ridge_grid, cv=5) #experimented cv's are 4,5,8,9\n",
    "ridge_cv_reg.fit(X_train,y_train)"
   ]
  },
  {
   "cell_type": "code",
   "execution_count": null,
   "id": "12b7ca85",
   "metadata": {},
   "outputs": [],
   "source": [
    "#Mean validation of the Ridge model:\n",
    "print('Mean validaton score is:', ridge_cv_reg.best_score_)\n",
    "\n",
    "#Performance measure of Ridge model(Using R2): Test set\n",
    "print('Unbiased Performance of best model:',ridge_cv_reg.score(X_test,y_test))\n",
    "\n",
    "# Finding the best hyperparameter\n",
    "print('Optimal Hyperparam:',ridge_cv_reg.best_params_)\n",
    "\n",
    "# Finding the best parameter estimates\n",
    "ridge_cv_reg.best_estimator_.coef_,ridge_cv_reg.best_estimator_.intercept_"
   ]
  },
  {
   "cell_type": "code",
   "execution_count": null,
   "id": "06043a6b",
   "metadata": {},
   "outputs": [],
   "source": [
    "#LASSO Regression\n",
    "ridge_grid = {'alpha':[0.00001, 0.0001, 0.001, 0.01, 0.1, 1, 10,100,1000,10000]}\n",
    "lasso=Lasso()\n",
    "lasso_cv_reg=GridSearchCV(lasso,ridge_grid, cv=5)\n",
    "lasso_cv_reg.fit(X_train,y_train)"
   ]
  },
  {
   "cell_type": "code",
   "execution_count": null,
   "id": "03322853",
   "metadata": {},
   "outputs": [],
   "source": [
    "#Mean validation of the Lasso model:\n",
    "print('Mean validaton score is:', lasso_cv_reg.best_score_)\n",
    "#Performance measure of Lasso model(Using R2)\n",
    "print('Unbiased Performance of best model:',lasso_cv_reg.score(X_test,y_test))\n",
    "# Finding the best hyperparameter\n",
    "print('Optimal Hyperparam:',lasso_cv_reg.best_params_)\n",
    "# Finding the best parameter estimates\n",
    "lasso_cv_reg.best_estimator_.coef_,lasso_cv_reg.best_estimator_.intercept_"
   ]
  },
  {
   "cell_type": "code",
   "execution_count": null,
   "id": "f75a0681",
   "metadata": {},
   "outputs": [],
   "source": [
    "lasso_cv_reg.predict(X_test)"
   ]
  },
  {
   "cell_type": "code",
   "execution_count": null,
   "id": "278551b4",
   "metadata": {},
   "outputs": [],
   "source": [
    "#As accuracy of the model hasn't improved, further explored with DecisionTreeRegressor\n",
    "dt_reg = DecisionTreeRegressor()\n",
    "dt_reg.fit(X_train, y_train)"
   ]
  },
  {
   "cell_type": "code",
   "execution_count": null,
   "id": "bad19837",
   "metadata": {},
   "outputs": [],
   "source": [
    "print(\"Accuracy of test is:\", dt_reg.score(X_test, y_test))"
   ]
  },
  {
   "cell_type": "code",
   "execution_count": null,
   "id": "9d676866",
   "metadata": {},
   "outputs": [],
   "source": [
    "pred=dt_reg.predict(X_test)\n",
    "pred"
   ]
  },
  {
   "cell_type": "code",
   "execution_count": null,
   "id": "a33a8e00",
   "metadata": {},
   "outputs": [],
   "source": [
    "#CONCLUSION - DecisionTreeRegressor have performed well in comparison to other models like\n",
    "#Lasso & Ridge models. Accuracy have improved to 0.00533(rounded). So this is best model\n",
    "#for using to predict future data"
   ]
  }
 ],
 "metadata": {
  "kernelspec": {
   "display_name": "Python 3 (ipykernel)",
   "language": "python",
   "name": "python3"
  },
  "language_info": {
   "codemirror_mode": {
    "name": "ipython",
    "version": 3
   },
   "file_extension": ".py",
   "mimetype": "text/x-python",
   "name": "python",
   "nbconvert_exporter": "python",
   "pygments_lexer": "ipython3",
   "version": "3.9.13"
  }
 },
 "nbformat": 4,
 "nbformat_minor": 5
}
